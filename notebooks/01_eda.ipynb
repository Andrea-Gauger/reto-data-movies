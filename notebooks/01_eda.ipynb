{
 "cells": [
  {
   "cell_type": "markdown",
   "metadata": {},
   "source": [
    "# 01. Carga de datos y EDA inicial\n",
    "- Cargar CSV original\n",
    "- Número de filas y columnas\n",
    "- Existencia de duplicados\n",
    "- Tipos de variables\n",
    "- Valores nulos por columna"
   ]
  },
  {
   "cell_type": "code",
   "execution_count": 22,
   "metadata": {},
   "outputs": [],
   "source": [
    "# Core\n",
    "\n",
    "import requests\n",
    "import pandas as pd\n",
    "# Configuración para que muestre todas las columnas al completo\n",
    "pd.set_option('display.max_columns', None)\n",
    "# Configuración para que no muestre la notación científica\n",
    "# pd.set_option('display.float_format', '{:,.0f}'.format)\n",
    "\n",
    "import numpy as np\n",
    "import re\n",
    "\n",
    "# Configuración\n",
    "\n",
    "import warnings\n",
    "warnings.filterwarnings(\"ignore\")\n",
    "\n",
    "# Utilidades\n",
    "\n",
    "# para convertir str en números\n",
    "from word2number import w2n"
   ]
  },
  {
   "cell_type": "code",
   "execution_count": 3,
   "metadata": {},
   "outputs": [],
   "source": [
    "\n",
    "def carga_eda(csv):\n",
    "    \"\"\" \n",
    "    Función para leer csv, convertir a df y hacer una primera exploración.\n",
    "    Igualar a variable con el nombre que quieres dar a DataFrame\n",
    "    \"\"\"\n",
    "    \n",
    "    try:\n",
    "        # Convertir el csv a DataFrame\n",
    "        df = pd.read_csv(f\"../data/{csv}.csv\")        \n",
    "\n",
    "        # Muestro las primeras filas\n",
    "        display(df.head())\n",
    "\n",
    "        # Muestro las últimas filas\n",
    "        display(df.tail())\n",
    "\n",
    "        # Muestro las dimensiones del dataframe\n",
    "        print(f\"-----\\n\\nEl DataFrame tiene {df.shape[0]} filas y {df.shape[1]} columnas.\\n-----\")\n",
    "\n",
    "        # Consulto si hay filas duplicadas\n",
    "        print(f\"\\nEl número de filas duplicadas es {df.duplicated().sum()}\\n-----\")\n",
    "\n",
    "        # Muestro el tipo de dato y si hay nulos por cada columna\n",
    "        print(\"\\nInformación del DataFrame:\")\n",
    "        df.info()\n",
    "\n",
    "        # Muestro el porcentaje de nulos por variable\n",
    "        print(\"\\nPorcentaje de nulos:\")\n",
    "        display(round(df.isnull().mean() * 100, 2))\n",
    "\n",
    "        # Muestro las estadísticas de columnas numéricas\n",
    "        print(\"-----\\n\\nEstadísticas descriptivas:\")\n",
    "        display(df.describe(include=\"all\").T)\n",
    "\n",
    "        # Me devuelve un df que tendré que igualar a una variable\n",
    "        return df  \n",
    "                \n",
    "\n",
    "    # Excepciones en caso de no encontrar el archivo o de que haya un error\n",
    "    except FileNotFoundError:\n",
    "        print(f\"Error: No se encontró el archivo '../data/{csv}.csv'.\")\n",
    "        return None  \n",
    "    \n",
    "    except Exception as e:\n",
    "        print(f\"Error: {e}\")\n",
    "        return None "
   ]
  },
  {
   "cell_type": "code",
   "execution_count": 4,
   "metadata": {},
   "outputs": [
    {
     "data": {
      "text/html": [
       "<div>\n",
       "<style scoped>\n",
       "    .dataframe tbody tr th:only-of-type {\n",
       "        vertical-align: middle;\n",
       "    }\n",
       "\n",
       "    .dataframe tbody tr th {\n",
       "        vertical-align: top;\n",
       "    }\n",
       "\n",
       "    .dataframe thead th {\n",
       "        text-align: right;\n",
       "    }\n",
       "</style>\n",
       "<table border=\"1\" class=\"dataframe\">\n",
       "  <thead>\n",
       "    <tr style=\"text-align: right;\">\n",
       "      <th></th>\n",
       "      <th>Title</th>\n",
       "      <th>Genre</th>\n",
       "      <th>Year</th>\n",
       "      <th>Budget</th>\n",
       "      <th>Revenue</th>\n",
       "      <th>IMDB_Rating</th>\n",
       "    </tr>\n",
       "  </thead>\n",
       "  <tbody>\n",
       "    <tr>\n",
       "      <th>0</th>\n",
       "      <td>The Last Journey</td>\n",
       "      <td>Drama</td>\n",
       "      <td>2020</td>\n",
       "      <td>11000000</td>\n",
       "      <td>3.404969e+07</td>\n",
       "      <td>4.9</td>\n",
       "    </tr>\n",
       "    <tr>\n",
       "      <th>1</th>\n",
       "      <td>Infinite Dreams</td>\n",
       "      <td>Drama</td>\n",
       "      <td>2004</td>\n",
       "      <td>178000000</td>\n",
       "      <td>5.504360e+08</td>\n",
       "      <td>6.6</td>\n",
       "    </tr>\n",
       "    <tr>\n",
       "      <th>2</th>\n",
       "      <td>Code of Shadows</td>\n",
       "      <td>Romance</td>\n",
       "      <td>2018</td>\n",
       "      <td>13000000</td>\n",
       "      <td>7.855773e+06</td>\n",
       "      <td>4.7</td>\n",
       "    </tr>\n",
       "    <tr>\n",
       "      <th>3</th>\n",
       "      <td>Ocean Whisper</td>\n",
       "      <td>Action</td>\n",
       "      <td>2016</td>\n",
       "      <td>148000000</td>\n",
       "      <td>1.769979e+08</td>\n",
       "      <td>7.2</td>\n",
       "    </tr>\n",
       "    <tr>\n",
       "      <th>4</th>\n",
       "      <td>Forgotten Realm</td>\n",
       "      <td>Romance</td>\n",
       "      <td>2017</td>\n",
       "      <td>61000000</td>\n",
       "      <td>1.264061e+08</td>\n",
       "      <td>NaN</td>\n",
       "    </tr>\n",
       "  </tbody>\n",
       "</table>\n",
       "</div>"
      ],
      "text/plain": [
       "              Title    Genre  Year     Budget       Revenue  IMDB_Rating\n",
       "0  The Last Journey    Drama  2020   11000000  3.404969e+07          4.9\n",
       "1   Infinite Dreams    Drama  2004  178000000  5.504360e+08          6.6\n",
       "2   Code of Shadows  Romance  2018   13000000  7.855773e+06          4.7\n",
       "3     Ocean Whisper   Action  2016  148000000  1.769979e+08          7.2\n",
       "4   Forgotten Realm  Romance  2017   61000000  1.264061e+08          NaN"
      ]
     },
     "metadata": {},
     "output_type": "display_data"
    },
    {
     "data": {
      "text/html": [
       "<div>\n",
       "<style scoped>\n",
       "    .dataframe tbody tr th:only-of-type {\n",
       "        vertical-align: middle;\n",
       "    }\n",
       "\n",
       "    .dataframe tbody tr th {\n",
       "        vertical-align: top;\n",
       "    }\n",
       "\n",
       "    .dataframe thead th {\n",
       "        text-align: right;\n",
       "    }\n",
       "</style>\n",
       "<table border=\"1\" class=\"dataframe\">\n",
       "  <thead>\n",
       "    <tr style=\"text-align: right;\">\n",
       "      <th></th>\n",
       "      <th>Title</th>\n",
       "      <th>Genre</th>\n",
       "      <th>Year</th>\n",
       "      <th>Budget</th>\n",
       "      <th>Revenue</th>\n",
       "      <th>IMDB_Rating</th>\n",
       "    </tr>\n",
       "  </thead>\n",
       "  <tbody>\n",
       "    <tr>\n",
       "      <th>17</th>\n",
       "      <td>Shattered Skies</td>\n",
       "      <td>NaN</td>\n",
       "      <td>2008</td>\n",
       "      <td>59000000</td>\n",
       "      <td>2.180626e+08</td>\n",
       "      <td>6.7</td>\n",
       "    </tr>\n",
       "    <tr>\n",
       "      <th>18</th>\n",
       "      <td>Eternal Voyage</td>\n",
       "      <td>Fantasy</td>\n",
       "      <td>2022</td>\n",
       "      <td>59000000</td>\n",
       "      <td>NaN</td>\n",
       "      <td>5.8</td>\n",
       "    </tr>\n",
       "    <tr>\n",
       "      <th>19</th>\n",
       "      <td>Mystic River</td>\n",
       "      <td>NaN</td>\n",
       "      <td>2020</td>\n",
       "      <td>41000000</td>\n",
       "      <td>5.851030e+07</td>\n",
       "      <td>4.9</td>\n",
       "    </tr>\n",
       "    <tr>\n",
       "      <th>20</th>\n",
       "      <td>The Last Journey</td>\n",
       "      <td>Drama</td>\n",
       "      <td>2020</td>\n",
       "      <td>11000000</td>\n",
       "      <td>3.404969e+07</td>\n",
       "      <td>4.9</td>\n",
       "    </tr>\n",
       "    <tr>\n",
       "      <th>21</th>\n",
       "      <td>Shattered Skies</td>\n",
       "      <td>NaN</td>\n",
       "      <td>2008</td>\n",
       "      <td>59000000</td>\n",
       "      <td>2.180626e+08</td>\n",
       "      <td>6.7</td>\n",
       "    </tr>\n",
       "  </tbody>\n",
       "</table>\n",
       "</div>"
      ],
      "text/plain": [
       "               Title    Genre  Year    Budget       Revenue  IMDB_Rating\n",
       "17   Shattered Skies      NaN  2008  59000000  2.180626e+08          6.7\n",
       "18    Eternal Voyage  Fantasy  2022  59000000           NaN          5.8\n",
       "19      Mystic River      NaN  2020  41000000  5.851030e+07          4.9\n",
       "20  The Last Journey    Drama  2020  11000000  3.404969e+07          4.9\n",
       "21   Shattered Skies      NaN  2008  59000000  2.180626e+08          6.7"
      ]
     },
     "metadata": {},
     "output_type": "display_data"
    },
    {
     "name": "stdout",
     "output_type": "stream",
     "text": [
      "-----\n",
      "\n",
      "El DataFrame tiene 22 filas y 6 columnas.\n",
      "-----\n",
      "\n",
      "El número de filas duplicadas es 2\n",
      "-----\n",
      "\n",
      "Información del DataFrame:\n",
      "<class 'pandas.core.frame.DataFrame'>\n",
      "RangeIndex: 22 entries, 0 to 21\n",
      "Data columns (total 6 columns):\n",
      " #   Column       Non-Null Count  Dtype  \n",
      "---  ------       --------------  -----  \n",
      " 0   Title        22 non-null     object \n",
      " 1   Genre        18 non-null     object \n",
      " 2   Year         22 non-null     object \n",
      " 3   Budget       22 non-null     object \n",
      " 4   Revenue      19 non-null     float64\n",
      " 5   IMDB_Rating  18 non-null     float64\n",
      "dtypes: float64(2), object(4)\n",
      "memory usage: 1.2+ KB\n",
      "\n",
      "Porcentaje de nulos:\n"
     ]
    },
    {
     "data": {
      "text/plain": [
       "Title           0.00\n",
       "Genre          18.18\n",
       "Year            0.00\n",
       "Budget          0.00\n",
       "Revenue        13.64\n",
       "IMDB_Rating    18.18\n",
       "dtype: float64"
      ]
     },
     "metadata": {},
     "output_type": "display_data"
    },
    {
     "name": "stdout",
     "output_type": "stream",
     "text": [
      "-----\n",
      "\n",
      "Estadísticas descriptivas:\n"
     ]
    },
    {
     "data": {
      "text/html": [
       "<div>\n",
       "<style scoped>\n",
       "    .dataframe tbody tr th:only-of-type {\n",
       "        vertical-align: middle;\n",
       "    }\n",
       "\n",
       "    .dataframe tbody tr th {\n",
       "        vertical-align: top;\n",
       "    }\n",
       "\n",
       "    .dataframe thead th {\n",
       "        text-align: right;\n",
       "    }\n",
       "</style>\n",
       "<table border=\"1\" class=\"dataframe\">\n",
       "  <thead>\n",
       "    <tr style=\"text-align: right;\">\n",
       "      <th></th>\n",
       "      <th>count</th>\n",
       "      <th>unique</th>\n",
       "      <th>top</th>\n",
       "      <th>freq</th>\n",
       "      <th>mean</th>\n",
       "      <th>std</th>\n",
       "      <th>min</th>\n",
       "      <th>25%</th>\n",
       "      <th>50%</th>\n",
       "      <th>75%</th>\n",
       "      <th>max</th>\n",
       "    </tr>\n",
       "  </thead>\n",
       "  <tbody>\n",
       "    <tr>\n",
       "      <th>Title</th>\n",
       "      <td>22</td>\n",
       "      <td>20</td>\n",
       "      <td>The Last Journey</td>\n",
       "      <td>2</td>\n",
       "      <td>NaN</td>\n",
       "      <td>NaN</td>\n",
       "      <td>NaN</td>\n",
       "      <td>NaN</td>\n",
       "      <td>NaN</td>\n",
       "      <td>NaN</td>\n",
       "      <td>NaN</td>\n",
       "    </tr>\n",
       "    <tr>\n",
       "      <th>Genre</th>\n",
       "      <td>18</td>\n",
       "      <td>7</td>\n",
       "      <td>Drama</td>\n",
       "      <td>5</td>\n",
       "      <td>NaN</td>\n",
       "      <td>NaN</td>\n",
       "      <td>NaN</td>\n",
       "      <td>NaN</td>\n",
       "      <td>NaN</td>\n",
       "      <td>NaN</td>\n",
       "      <td>NaN</td>\n",
       "    </tr>\n",
       "    <tr>\n",
       "      <th>Year</th>\n",
       "      <td>22</td>\n",
       "      <td>15</td>\n",
       "      <td>2020</td>\n",
       "      <td>4</td>\n",
       "      <td>NaN</td>\n",
       "      <td>NaN</td>\n",
       "      <td>NaN</td>\n",
       "      <td>NaN</td>\n",
       "      <td>NaN</td>\n",
       "      <td>NaN</td>\n",
       "      <td>NaN</td>\n",
       "    </tr>\n",
       "    <tr>\n",
       "      <th>Budget</th>\n",
       "      <td>22</td>\n",
       "      <td>19</td>\n",
       "      <td>59000000</td>\n",
       "      <td>3</td>\n",
       "      <td>NaN</td>\n",
       "      <td>NaN</td>\n",
       "      <td>NaN</td>\n",
       "      <td>NaN</td>\n",
       "      <td>NaN</td>\n",
       "      <td>NaN</td>\n",
       "      <td>NaN</td>\n",
       "    </tr>\n",
       "    <tr>\n",
       "      <th>Revenue</th>\n",
       "      <td>19.0</td>\n",
       "      <td>NaN</td>\n",
       "      <td>NaN</td>\n",
       "      <td>NaN</td>\n",
       "      <td>173447915.703216</td>\n",
       "      <td>136688546.729653</td>\n",
       "      <td>7855773.484432</td>\n",
       "      <td>59656929.564439</td>\n",
       "      <td>150236576.310303</td>\n",
       "      <td>221459088.660491</td>\n",
       "      <td>550436004.927962</td>\n",
       "    </tr>\n",
       "    <tr>\n",
       "      <th>IMDB_Rating</th>\n",
       "      <td>18.0</td>\n",
       "      <td>NaN</td>\n",
       "      <td>NaN</td>\n",
       "      <td>NaN</td>\n",
       "      <td>5.883333</td>\n",
       "      <td>1.487299</td>\n",
       "      <td>3.9</td>\n",
       "      <td>4.9</td>\n",
       "      <td>5.55</td>\n",
       "      <td>6.7</td>\n",
       "      <td>9.1</td>\n",
       "    </tr>\n",
       "  </tbody>\n",
       "</table>\n",
       "</div>"
      ],
      "text/plain": [
       "            count unique               top freq              mean  \\\n",
       "Title          22     20  The Last Journey    2               NaN   \n",
       "Genre          18      7             Drama    5               NaN   \n",
       "Year           22     15              2020    4               NaN   \n",
       "Budget         22     19          59000000    3               NaN   \n",
       "Revenue      19.0    NaN               NaN  NaN  173447915.703216   \n",
       "IMDB_Rating  18.0    NaN               NaN  NaN          5.883333   \n",
       "\n",
       "                          std             min              25%  \\\n",
       "Title                     NaN             NaN              NaN   \n",
       "Genre                     NaN             NaN              NaN   \n",
       "Year                      NaN             NaN              NaN   \n",
       "Budget                    NaN             NaN              NaN   \n",
       "Revenue      136688546.729653  7855773.484432  59656929.564439   \n",
       "IMDB_Rating          1.487299             3.9              4.9   \n",
       "\n",
       "                          50%               75%               max  \n",
       "Title                     NaN               NaN               NaN  \n",
       "Genre                     NaN               NaN               NaN  \n",
       "Year                      NaN               NaN               NaN  \n",
       "Budget                    NaN               NaN               NaN  \n",
       "Revenue      150236576.310303  221459088.660491  550436004.927962  \n",
       "IMDB_Rating              5.55               6.7               9.1  "
      ]
     },
     "metadata": {},
     "output_type": "display_data"
    }
   ],
   "source": [
    "df_movies = carga_eda(\"raw_movies_dataset\")"
   ]
  },
  {
   "cell_type": "markdown",
   "metadata": {},
   "source": [
    "# 02. Visualizaciones exploratorias\n"
   ]
  },
  {
   "cell_type": "markdown",
   "metadata": {},
   "source": [
    "# 03. Limpieza de variables sin nulos\n",
    "- Conversión de tipos (Year a int o fecha, \n",
    "- Revenue y Budget a números)\n",
    "- Estándar de strings (Title, Genre, etc.)\n",
    "- Eliminación de duplicados"
   ]
  },
  {
   "cell_type": "code",
   "execution_count": 10,
   "metadata": {},
   "outputs": [],
   "source": [
    "def text_to_num(year):\n",
    "    \"\"\"\n",
    "    Limpiar y convertir a números str sin errores ortográficos ni de puntuación: \n",
    "        - Si el valor es un str, lo normaliza dejando todo en minusculas y quitando espacios en los extremos.\n",
    "        - Después lo convierte a número con la librería w2n, método word_to_num\n",
    "        - Si no puede devuelve el valor ya normalizado\n",
    "        - Si no es un str, devuelve el valor original\n",
    "    \"\"\"\n",
    "    # Si es str\n",
    "    if isinstance(year, str):\n",
    "        # Normalizamos el str\n",
    "        year_limpio = year.strip().lower()\n",
    "        try:\n",
    "            return w2n.word_to_num(year_limpio)\n",
    "        except:\n",
    "            return year_limpio\n",
    "    # Si no es str, devuelve el mismo valor   \n",
    "    else: \n",
    "        return year"
   ]
  },
  {
   "cell_type": "code",
   "execution_count": null,
   "metadata": {},
   "outputs": [],
   "source": [
    "def clean_budget(num):\n",
    "        # Quitar espacios al inicio/final\n",
    "        num = num.strip() \n",
    "\n",
    "        # Buscar si hay \"M\" o \"m\":\n",
    "        if re.search(r\"[Mm]\", num):\n",
    "\n",
    "            # Quitar \"M\" o \"m\" y convertir a int y millones\n",
    "            clean_num = re.sub(r\"[^\\d\\.]\", \"\", num)\n",
    "            try:\n",
    "                return int(clean_num) * 1_000_000\n",
    "            except:\n",
    "                return np.nan\n",
    "\n",
    "        # Buscar si hay \"K\" o \"k\":\n",
    "        if re.search(r\"[Kk]\", num):\n",
    "\n",
    "            # Quitar \"K\" o \"k\" y convertir a int y miles\n",
    "            clean_num = re.sub(r\"[^\\d\\.]\", \"\", num)\n",
    "            try:\n",
    "                return int(clean_num) * 1_000\n",
    "            except:\n",
    "                return np.nan   \n",
    "            \n",
    "        # Si no encuentra solo convierte a Int\n",
    "        else:\n",
    "            \n",
    "            try:\n",
    "                return int(num)\n",
    "            except:\n",
    "                return np.nan"
   ]
  },
  {
   "cell_type": "markdown",
   "metadata": {},
   "source": [
    "## 03.01 Limpieza Year"
   ]
  },
  {
   "cell_type": "code",
   "execution_count": 9,
   "metadata": {},
   "outputs": [
    {
     "data": {
      "text/plain": [
       "Year\n",
       "2020            3\n",
       "2011            2\n",
       "2007            2\n",
       "2022            2\n",
       "2004            1\n",
       "2018            1\n",
       "2016            1\n",
       "2017            1\n",
       "2000            1\n",
       "2006            1\n",
       "2003            1\n",
       "2019            1\n",
       "Two Thousand    1\n",
       "2001            1\n",
       "2008            1\n",
       "Name: count, dtype: int64"
      ]
     },
     "execution_count": 9,
     "metadata": {},
     "output_type": "execute_result"
    }
   ],
   "source": [
    "# Compruebo los valores que se encuentran dentro de la variable \"Year\"\n",
    "# Busco una librería para convertir str a numero, siempre y cuando no hayan errores ortográficos ni de puntuación.\n",
    "\n",
    "df_movies[\"Year\"].value_counts()"
   ]
  },
  {
   "cell_type": "code",
   "execution_count": 11,
   "metadata": {},
   "outputs": [],
   "source": [
    "# Aplico la función a la variable \"Year\" del DataFrame\n",
    "\n",
    "df_movies[\"Year\"] = df_movies[\"Year\"].apply(text_to_num)"
   ]
  },
  {
   "cell_type": "code",
   "execution_count": 12,
   "metadata": {},
   "outputs": [],
   "source": [
    "# Convierto str a datetime y luego a year.\n",
    "\n",
    "df_movies[\"Year\"] = pd.to_datetime(df_movies[\"Year\"], format=\"%Y\").dt.year"
   ]
  },
  {
   "cell_type": "code",
   "execution_count": 14,
   "metadata": {},
   "outputs": [
    {
     "data": {
      "text/plain": [
       "Year\n",
       "2000    2\n",
       "2001    1\n",
       "2003    1\n",
       "2004    1\n",
       "2006    1\n",
       "2007    2\n",
       "2008    1\n",
       "2011    2\n",
       "2016    1\n",
       "2017    1\n",
       "2018    1\n",
       "2019    1\n",
       "2020    3\n",
       "2022    2\n",
       "Name: count, dtype: int64"
      ]
     },
     "execution_count": 14,
     "metadata": {},
     "output_type": "execute_result"
    }
   ],
   "source": [
    "# Compruebo el resultado, ordenando el output por año\n",
    "\n",
    "df_movies[\"Year\"].value_counts().sort_index()"
   ]
  },
  {
   "cell_type": "markdown",
   "metadata": {},
   "source": [
    "## 03.02 Limpieza Budget"
   ]
  },
  {
   "cell_type": "code",
   "execution_count": 15,
   "metadata": {},
   "outputs": [
    {
     "data": {
      "text/plain": [
       "Budget\n",
       "59000000     2\n",
       "11000000     1\n",
       "202000000    1\n",
       "215000000    1\n",
       "180000000    1\n",
       "123000000    1\n",
       "160000000    1\n",
       "99000000     1\n",
       "102000000    1\n",
       "152000000    1\n",
       "178000000    1\n",
       "25000000     1\n",
       "211000000    1\n",
       "31000000     1\n",
       "80M          1\n",
       "61000000     1\n",
       "148000000    1\n",
       "13000000     1\n",
       "41000000     1\n",
       "Name: count, dtype: int64"
      ]
     },
     "execution_count": 15,
     "metadata": {},
     "output_type": "execute_result"
    }
   ],
   "source": [
    "# Entro con la última variable en la que no hay valores nulos, veo todos los valores que encuentro dentro\n",
    "# Este paso no es escalable, pensaría en hacer un .sample() o un .head() o un .tail()\n",
    "\n",
    "df_movies[\"Budget\"].value_counts()"
   ]
  },
  {
   "cell_type": "code",
   "execution_count": 18,
   "metadata": {},
   "outputs": [],
   "source": [
    "# Aplico la función \n",
    "\n",
    "df_movies[\"Budget\"] = df_movies[\"Budget\"].apply(clean_budget)"
   ]
  },
  {
   "cell_type": "code",
   "execution_count": 17,
   "metadata": {},
   "outputs": [
    {
     "name": "stdout",
     "output_type": "stream",
     "text": [
      "\n",
      "Porcentaje de nulos:\n"
     ]
    },
    {
     "data": {
      "text/plain": [
       "Title           0.0\n",
       "Genre          15.0\n",
       "Year            0.0\n",
       "Budget          0.0\n",
       "Revenue        15.0\n",
       "IMDB_Rating    20.0\n",
       "dtype: float64"
      ]
     },
     "metadata": {},
     "output_type": "display_data"
    }
   ],
   "source": [
    "print(\"\\nPorcentaje de nulos:\")\n",
    "display(round(df_movies.isnull().mean() * 100, 2))"
   ]
  },
  {
   "cell_type": "markdown",
   "metadata": {},
   "source": [
    "## 03.03 Duplicados"
   ]
  },
  {
   "cell_type": "code",
   "execution_count": 5,
   "metadata": {},
   "outputs": [
    {
     "data": {
      "text/plain": [
       "Title\n",
       "The Last Journey        2\n",
       "Shattered Skies         2\n",
       "Infinite Dreams         1\n",
       "Eternal Voyage          1\n",
       "Broken Destiny          1\n",
       "Beyond the Stars        1\n",
       "The Lost Signal         1\n",
       "Crimson Night           1\n",
       "Quantum Hearts          1\n",
       "Solar Storm             1\n",
       "Iron Legacy             1\n",
       "Whispers in the Dark    1\n",
       "Digital Frontier        1\n",
       "Echoes of Tomorrow      1\n",
       "Silent Horizon          1\n",
       "Neon City               1\n",
       "Forgotten Realm         1\n",
       "Ocean Whisper           1\n",
       "Code of Shadows         1\n",
       "Mystic River            1\n",
       "Name: count, dtype: int64"
      ]
     },
     "execution_count": 5,
     "metadata": {},
     "output_type": "execute_result"
    }
   ],
   "source": [
    "# Miro los valores que se encuentran dentro de la variable \"Title\":\n",
    "#   - encuentro los que están duplicados\n",
    "#   - compruebo si es necesaria la normalización del texto, NO\n",
    "\n",
    "df_movies[\"Title\"].value_counts()"
   ]
  },
  {
   "cell_type": "code",
   "execution_count": 6,
   "metadata": {},
   "outputs": [
    {
     "data": {
      "text/html": [
       "<div>\n",
       "<style scoped>\n",
       "    .dataframe tbody tr th:only-of-type {\n",
       "        vertical-align: middle;\n",
       "    }\n",
       "\n",
       "    .dataframe tbody tr th {\n",
       "        vertical-align: top;\n",
       "    }\n",
       "\n",
       "    .dataframe thead th {\n",
       "        text-align: right;\n",
       "    }\n",
       "</style>\n",
       "<table border=\"1\" class=\"dataframe\">\n",
       "  <thead>\n",
       "    <tr style=\"text-align: right;\">\n",
       "      <th></th>\n",
       "      <th>Title</th>\n",
       "      <th>Genre</th>\n",
       "      <th>Year</th>\n",
       "      <th>Budget</th>\n",
       "      <th>Revenue</th>\n",
       "      <th>IMDB_Rating</th>\n",
       "    </tr>\n",
       "  </thead>\n",
       "  <tbody>\n",
       "    <tr>\n",
       "      <th>17</th>\n",
       "      <td>Shattered Skies</td>\n",
       "      <td>NaN</td>\n",
       "      <td>2008</td>\n",
       "      <td>59000000</td>\n",
       "      <td>2.180626e+08</td>\n",
       "      <td>6.7</td>\n",
       "    </tr>\n",
       "    <tr>\n",
       "      <th>21</th>\n",
       "      <td>Shattered Skies</td>\n",
       "      <td>NaN</td>\n",
       "      <td>2008</td>\n",
       "      <td>59000000</td>\n",
       "      <td>2.180626e+08</td>\n",
       "      <td>6.7</td>\n",
       "    </tr>\n",
       "    <tr>\n",
       "      <th>0</th>\n",
       "      <td>The Last Journey</td>\n",
       "      <td>Drama</td>\n",
       "      <td>2020</td>\n",
       "      <td>11000000</td>\n",
       "      <td>3.404969e+07</td>\n",
       "      <td>4.9</td>\n",
       "    </tr>\n",
       "    <tr>\n",
       "      <th>20</th>\n",
       "      <td>The Last Journey</td>\n",
       "      <td>Drama</td>\n",
       "      <td>2020</td>\n",
       "      <td>11000000</td>\n",
       "      <td>3.404969e+07</td>\n",
       "      <td>4.9</td>\n",
       "    </tr>\n",
       "  </tbody>\n",
       "</table>\n",
       "</div>"
      ],
      "text/plain": [
       "               Title  Genre  Year    Budget       Revenue  IMDB_Rating\n",
       "17   Shattered Skies    NaN  2008  59000000  2.180626e+08          6.7\n",
       "21   Shattered Skies    NaN  2008  59000000  2.180626e+08          6.7\n",
       "0   The Last Journey  Drama  2020  11000000  3.404969e+07          4.9\n",
       "20  The Last Journey  Drama  2020  11000000  3.404969e+07          4.9"
      ]
     },
     "execution_count": 6,
     "metadata": {},
     "output_type": "execute_result"
    }
   ],
   "source": [
    "# Miro las filas duplicadas con sus originales, compruebo que son realmente duplicados.\n",
    "# Se puede añadir un .head() en caso de querer escalar a un dataset más grande, para ver los primeros duplicados y empezar a analizar por ahí.\n",
    "\n",
    "df_movies[df_movies.duplicated(keep=False)].sort_values(\"Title\")"
   ]
  },
  {
   "cell_type": "code",
   "execution_count": 7,
   "metadata": {},
   "outputs": [],
   "source": [
    "# Elimino los duplicados.\n",
    "\n",
    "df_movies.drop_duplicates(inplace=True)"
   ]
  },
  {
   "cell_type": "code",
   "execution_count": 8,
   "metadata": {},
   "outputs": [
    {
     "data": {
      "text/plain": [
       "(20, 6)"
      ]
     },
     "execution_count": 8,
     "metadata": {},
     "output_type": "execute_result"
    }
   ],
   "source": [
    "# Compruebo las nuevas dimensiones una vez eliminados los duplicados.\n",
    "\n",
    "df_movies.shape"
   ]
  },
  {
   "cell_type": "code",
   "execution_count": 13,
   "metadata": {},
   "outputs": [
    {
     "name": "stdout",
     "output_type": "stream",
     "text": [
      "<class 'pandas.core.frame.DataFrame'>\n",
      "Index: 20 entries, 0 to 19\n",
      "Data columns (total 6 columns):\n",
      " #   Column       Non-Null Count  Dtype  \n",
      "---  ------       --------------  -----  \n",
      " 0   Title        20 non-null     object \n",
      " 1   Genre        17 non-null     object \n",
      " 2   Year         20 non-null     int32  \n",
      " 3   Budget       20 non-null     object \n",
      " 4   Revenue      17 non-null     float64\n",
      " 5   IMDB_Rating  16 non-null     float64\n",
      "dtypes: float64(2), int32(1), object(3)\n",
      "memory usage: 1.0+ KB\n"
     ]
    }
   ],
   "source": [
    "# Reviso la info de las columnas hasta el momento\n",
    "\n",
    "df_movies.info()"
   ]
  },
  {
   "cell_type": "markdown",
   "metadata": {},
   "source": [
    "# 04. Limpieza y relleno de nulos\n",
    "- Variables con nulos: usar función OMDb para rellenar IMDB_Rating, Revenue, Genre\n",
    "- Imputación adicional si quedan nulos"
   ]
  },
  {
   "cell_type": "code",
   "execution_count": 24,
   "metadata": {},
   "outputs": [],
   "source": [
    "API_KEY = \"XXX\""
   ]
  },
  {
   "cell_type": "markdown",
   "metadata": {},
   "source": [
    "\"En este bloque controlo: \n",
    "- que solo se rellenen las columnas que están vacías realmente en el DataFrame y \n",
    "- que la API realmente devuelva ese dato,\n",
    "- que imprima cuando no encuentre la película\n",
    "- que imprima los datos que ha rellenado\n",
    "\n",
    "Así no se sobreescribe información que ya tenía limpia y evito errores si en la respuesta de la API no está la key. \n",
    "Actualización es segura y consistente.\""
   ]
  },
  {
   "cell_type": "code",
   "execution_count": 25,
   "metadata": {},
   "outputs": [],
   "source": [
    "# CORRECTA MEJOR MÁS EFICIENTE \n",
    "def fill_omdb(row, columns_to_fill=[\"IMDB_Rating\", \"Revenue\", \"Genre\"]):\n",
    "    \"\"\"\n",
    "    Toma una fila de un DataFrame, comprueba si tiene NaN en las columnas especificadas,\n",
    "    y si es así consulta OMDb por el título y devuelve la fila con los valores rellenados.\n",
    "    \"\"\"\n",
    "    # Si no falta nada, devuelve la fila tal cual\n",
    "    if not row[columns_to_fill].isnull().any():\n",
    "        return row\n",
    "\n",
    "    title = row[\"Title\"]\n",
    "\n",
    "    url = f\"http://www.omdbapi.com/?t={title}&apikey={API_KEY}\"\n",
    "    response = requests.get(url)\n",
    "\n",
    "    if response.status_code == 200:\n",
    "        data = response.json()\n",
    "\n",
    "        if data.get(\"Response\") == \"True\":\n",
    "            if pd.isna(row[\"IMDB_Rating\"]) and \"imdbRating\" in data:\n",
    "                if data[\"imdbRating\"] != \"N/A\":\n",
    "                    row[\"IMDB_Rating\"] = data[\"imdbRating\"]\n",
    "                    print(f\"{title} -> IMDB_Rating: {row[\"IMDB_Rating\"]}\")\n",
    "                else:\n",
    "                    row[\"IMDB_Rating\"] = np.nan\n",
    "\n",
    "            if pd.isna(row[\"Revenue\"]) and \"BoxOffice\" in data:\n",
    "                if data[\"BoxOffice\"] != \"N/A\":\n",
    "                    row[\"Revenue\"] = data[\"BoxOffice\"]\n",
    "                    print(f\"{title} -> Revenue: {row[\"Revenue\"]}\")\n",
    "                else:\n",
    "                    row[\"Revenue\"] = np.nan\n",
    "\n",
    "            if pd.isna(row[\"Genre\"]) and \"Genre\" in data:\n",
    "                if data[\"Genre\"] != \"N/A\":\n",
    "                    row[\"Genre\"] = data[\"Genre\"].split(\",\")[0].strip()\n",
    "                    print(f\"{title} -> Genre: {row[\"Genre\"]}\")\n",
    "                else:\n",
    "                    row[\"Genre\"] = np.nan\n",
    "\n",
    "        else:\n",
    "            print(f\"No encontrado en OMDb: {title}\")\n",
    "            \n",
    "    else:\n",
    "        print(f\"Error con la API para {title}: {response.status_code}\")\n",
    "\n",
    "    return row"
   ]
  },
  {
   "cell_type": "code",
   "execution_count": 26,
   "metadata": {},
   "outputs": [
    {
     "name": "stdout",
     "output_type": "stream",
     "text": [
      "\n",
      "Porcentaje de nulos:\n"
     ]
    },
    {
     "data": {
      "text/plain": [
       "Title           0.0\n",
       "Genre          15.0\n",
       "Year            0.0\n",
       "Budget          0.0\n",
       "Revenue        15.0\n",
       "IMDB_Rating    20.0\n",
       "dtype: float64"
      ]
     },
     "metadata": {},
     "output_type": "display_data"
    }
   ],
   "source": [
    "print(\"\\nPorcentaje de nulos:\")\n",
    "display(round(df_movies.isnull().mean() * 100, 2))"
   ]
  },
  {
   "cell_type": "code",
   "execution_count": 27,
   "metadata": {},
   "outputs": [
    {
     "name": "stdout",
     "output_type": "stream",
     "text": [
      "No encontrado en OMDb: Forgotten Realm\n",
      "Digital Frontier -> Genre: Documentary\n",
      "No encontrado en OMDb: Quantum Hearts\n",
      "Beyond the Stars -> IMDB_Rating: 5.2\n",
      "No encontrado en OMDb: Shattered Skies\n",
      "No encontrado en OMDb: Eternal Voyage\n",
      "Mystic River -> Genre: Crime\n"
     ]
    }
   ],
   "source": [
    "df_movies = df_movies.apply(fill_omdb, axis=1)"
   ]
  },
  {
   "cell_type": "code",
   "execution_count": 28,
   "metadata": {},
   "outputs": [
    {
     "name": "stdout",
     "output_type": "stream",
     "text": [
      "\n",
      "Porcentaje de nulos:\n"
     ]
    },
    {
     "data": {
      "text/plain": [
       "Title           0.0\n",
       "Genre           5.0\n",
       "Year            0.0\n",
       "Budget          0.0\n",
       "Revenue        15.0\n",
       "IMDB_Rating    15.0\n",
       "dtype: float64"
      ]
     },
     "metadata": {},
     "output_type": "display_data"
    }
   ],
   "source": [
    "print(\"\\nPorcentaje de nulos:\")\n",
    "display(round(df_movies.isnull().mean() * 100, 2))"
   ]
  },
  {
   "cell_type": "markdown",
   "metadata": {},
   "source": [
    "# 05. Imputación de nulos restantes\n",
    "- Por ejemplo, Media, Mediana o valor constante"
   ]
  },
  {
   "cell_type": "code",
   "execution_count": null,
   "metadata": {},
   "outputs": [],
   "source": []
  },
  {
   "cell_type": "code",
   "execution_count": null,
   "metadata": {},
   "outputs": [],
   "source": []
  },
  {
   "cell_type": "markdown",
   "metadata": {},
   "source": [
    "# 06. Exportar CSV limpio"
   ]
  },
  {
   "cell_type": "code",
   "execution_count": 19,
   "metadata": {},
   "outputs": [
    {
     "data": {
      "text/html": [
       "<div>\n",
       "<style scoped>\n",
       "    .dataframe tbody tr th:only-of-type {\n",
       "        vertical-align: middle;\n",
       "    }\n",
       "\n",
       "    .dataframe tbody tr th {\n",
       "        vertical-align: top;\n",
       "    }\n",
       "\n",
       "    .dataframe thead th {\n",
       "        text-align: right;\n",
       "    }\n",
       "</style>\n",
       "<table border=\"1\" class=\"dataframe\">\n",
       "  <thead>\n",
       "    <tr style=\"text-align: right;\">\n",
       "      <th></th>\n",
       "      <th>Title</th>\n",
       "      <th>Genre</th>\n",
       "      <th>Year</th>\n",
       "      <th>Budget</th>\n",
       "      <th>Revenue</th>\n",
       "      <th>IMDB_Rating</th>\n",
       "    </tr>\n",
       "  </thead>\n",
       "  <tbody>\n",
       "    <tr>\n",
       "      <th>0</th>\n",
       "      <td>The Last Journey</td>\n",
       "      <td>Drama</td>\n",
       "      <td>2020</td>\n",
       "      <td>11000000</td>\n",
       "      <td>3.404969e+07</td>\n",
       "      <td>4.9</td>\n",
       "    </tr>\n",
       "    <tr>\n",
       "      <th>1</th>\n",
       "      <td>Infinite Dreams</td>\n",
       "      <td>Drama</td>\n",
       "      <td>2004</td>\n",
       "      <td>178000000</td>\n",
       "      <td>5.504360e+08</td>\n",
       "      <td>6.6</td>\n",
       "    </tr>\n",
       "    <tr>\n",
       "      <th>2</th>\n",
       "      <td>Code of Shadows</td>\n",
       "      <td>Romance</td>\n",
       "      <td>2018</td>\n",
       "      <td>13000000</td>\n",
       "      <td>7.855773e+06</td>\n",
       "      <td>4.7</td>\n",
       "    </tr>\n",
       "    <tr>\n",
       "      <th>3</th>\n",
       "      <td>Ocean Whisper</td>\n",
       "      <td>Action</td>\n",
       "      <td>2016</td>\n",
       "      <td>148000000</td>\n",
       "      <td>1.769979e+08</td>\n",
       "      <td>7.2</td>\n",
       "    </tr>\n",
       "    <tr>\n",
       "      <th>4</th>\n",
       "      <td>Forgotten Realm</td>\n",
       "      <td>Romance</td>\n",
       "      <td>2017</td>\n",
       "      <td>61000000</td>\n",
       "      <td>1.264061e+08</td>\n",
       "      <td>NaN</td>\n",
       "    </tr>\n",
       "    <tr>\n",
       "      <th>5</th>\n",
       "      <td>Neon City</td>\n",
       "      <td>Comedy</td>\n",
       "      <td>2000</td>\n",
       "      <td>80000000</td>\n",
       "      <td>3.621845e+08</td>\n",
       "      <td>5.1</td>\n",
       "    </tr>\n",
       "    <tr>\n",
       "      <th>6</th>\n",
       "      <td>Silent Horizon</td>\n",
       "      <td>Fantasy</td>\n",
       "      <td>2006</td>\n",
       "      <td>31000000</td>\n",
       "      <td>2.556292e+07</td>\n",
       "      <td>4.1</td>\n",
       "    </tr>\n",
       "    <tr>\n",
       "      <th>7</th>\n",
       "      <td>Echoes of Tomorrow</td>\n",
       "      <td>Sci-Fi</td>\n",
       "      <td>2011</td>\n",
       "      <td>211000000</td>\n",
       "      <td>1.375882e+08</td>\n",
       "      <td>NaN</td>\n",
       "    </tr>\n",
       "    <tr>\n",
       "      <th>8</th>\n",
       "      <td>Digital Frontier</td>\n",
       "      <td>NaN</td>\n",
       "      <td>2003</td>\n",
       "      <td>25000000</td>\n",
       "      <td>6.080356e+07</td>\n",
       "      <td>8.2</td>\n",
       "    </tr>\n",
       "    <tr>\n",
       "      <th>9</th>\n",
       "      <td>Whispers in the Dark</td>\n",
       "      <td>Fantasy</td>\n",
       "      <td>2019</td>\n",
       "      <td>152000000</td>\n",
       "      <td>1.782975e+08</td>\n",
       "      <td>3.9</td>\n",
       "    </tr>\n",
       "    <tr>\n",
       "      <th>10</th>\n",
       "      <td>Iron Legacy</td>\n",
       "      <td>Thriller</td>\n",
       "      <td>2000</td>\n",
       "      <td>202000000</td>\n",
       "      <td>3.055973e+08</td>\n",
       "      <td>4.0</td>\n",
       "    </tr>\n",
       "    <tr>\n",
       "      <th>11</th>\n",
       "      <td>Solar Storm</td>\n",
       "      <td>Drama</td>\n",
       "      <td>2007</td>\n",
       "      <td>102000000</td>\n",
       "      <td>1.502366e+08</td>\n",
       "      <td>NaN</td>\n",
       "    </tr>\n",
       "    <tr>\n",
       "      <th>12</th>\n",
       "      <td>Quantum Hearts</td>\n",
       "      <td>Comedy</td>\n",
       "      <td>2011</td>\n",
       "      <td>99000000</td>\n",
       "      <td>NaN</td>\n",
       "      <td>7.3</td>\n",
       "    </tr>\n",
       "    <tr>\n",
       "      <th>13</th>\n",
       "      <td>Crimson Night</td>\n",
       "      <td>Drama</td>\n",
       "      <td>2022</td>\n",
       "      <td>160000000</td>\n",
       "      <td>NaN</td>\n",
       "      <td>6.5</td>\n",
       "    </tr>\n",
       "    <tr>\n",
       "      <th>14</th>\n",
       "      <td>The Lost Signal</td>\n",
       "      <td>Comedy</td>\n",
       "      <td>2007</td>\n",
       "      <td>123000000</td>\n",
       "      <td>2.248556e+08</td>\n",
       "      <td>9.1</td>\n",
       "    </tr>\n",
       "    <tr>\n",
       "      <th>15</th>\n",
       "      <td>Beyond the Stars</td>\n",
       "      <td>Thriller</td>\n",
       "      <td>2020</td>\n",
       "      <td>180000000</td>\n",
       "      <td>2.942981e+08</td>\n",
       "      <td>NaN</td>\n",
       "    </tr>\n",
       "    <tr>\n",
       "      <th>16</th>\n",
       "      <td>Broken Destiny</td>\n",
       "      <td>Thriller</td>\n",
       "      <td>2001</td>\n",
       "      <td>215000000</td>\n",
       "      <td>1.316554e+08</td>\n",
       "      <td>5.3</td>\n",
       "    </tr>\n",
       "    <tr>\n",
       "      <th>17</th>\n",
       "      <td>Shattered Skies</td>\n",
       "      <td>NaN</td>\n",
       "      <td>2008</td>\n",
       "      <td>59000000</td>\n",
       "      <td>2.180626e+08</td>\n",
       "      <td>6.7</td>\n",
       "    </tr>\n",
       "    <tr>\n",
       "      <th>18</th>\n",
       "      <td>Eternal Voyage</td>\n",
       "      <td>Fantasy</td>\n",
       "      <td>2022</td>\n",
       "      <td>59000000</td>\n",
       "      <td>NaN</td>\n",
       "      <td>5.8</td>\n",
       "    </tr>\n",
       "    <tr>\n",
       "      <th>19</th>\n",
       "      <td>Mystic River</td>\n",
       "      <td>NaN</td>\n",
       "      <td>2020</td>\n",
       "      <td>41000000</td>\n",
       "      <td>5.851030e+07</td>\n",
       "      <td>4.9</td>\n",
       "    </tr>\n",
       "  </tbody>\n",
       "</table>\n",
       "</div>"
      ],
      "text/plain": [
       "                   Title     Genre  Year     Budget       Revenue  IMDB_Rating\n",
       "0       The Last Journey     Drama  2020   11000000  3.404969e+07          4.9\n",
       "1        Infinite Dreams     Drama  2004  178000000  5.504360e+08          6.6\n",
       "2        Code of Shadows   Romance  2018   13000000  7.855773e+06          4.7\n",
       "3          Ocean Whisper    Action  2016  148000000  1.769979e+08          7.2\n",
       "4        Forgotten Realm   Romance  2017   61000000  1.264061e+08          NaN\n",
       "5              Neon City    Comedy  2000   80000000  3.621845e+08          5.1\n",
       "6         Silent Horizon   Fantasy  2006   31000000  2.556292e+07          4.1\n",
       "7     Echoes of Tomorrow    Sci-Fi  2011  211000000  1.375882e+08          NaN\n",
       "8       Digital Frontier       NaN  2003   25000000  6.080356e+07          8.2\n",
       "9   Whispers in the Dark   Fantasy  2019  152000000  1.782975e+08          3.9\n",
       "10           Iron Legacy  Thriller  2000  202000000  3.055973e+08          4.0\n",
       "11           Solar Storm     Drama  2007  102000000  1.502366e+08          NaN\n",
       "12        Quantum Hearts    Comedy  2011   99000000           NaN          7.3\n",
       "13         Crimson Night     Drama  2022  160000000           NaN          6.5\n",
       "14       The Lost Signal    Comedy  2007  123000000  2.248556e+08          9.1\n",
       "15      Beyond the Stars  Thriller  2020  180000000  2.942981e+08          NaN\n",
       "16        Broken Destiny  Thriller  2001  215000000  1.316554e+08          5.3\n",
       "17       Shattered Skies       NaN  2008   59000000  2.180626e+08          6.7\n",
       "18        Eternal Voyage   Fantasy  2022   59000000           NaN          5.8\n",
       "19          Mystic River       NaN  2020   41000000  5.851030e+07          4.9"
      ]
     },
     "execution_count": 19,
     "metadata": {},
     "output_type": "execute_result"
    }
   ],
   "source": [
    "df_movies"
   ]
  },
  {
   "cell_type": "code",
   "execution_count": 29,
   "metadata": {},
   "outputs": [],
   "source": [
    "df_movies.to_csv(\"../data/clean.csv\", index=False)"
   ]
  }
 ],
 "metadata": {
  "kernelspec": {
   "display_name": "base",
   "language": "python",
   "name": "python3"
  },
  "language_info": {
   "codemirror_mode": {
    "name": "ipython",
    "version": 3
   },
   "file_extension": ".py",
   "mimetype": "text/x-python",
   "name": "python",
   "nbconvert_exporter": "python",
   "pygments_lexer": "ipython3",
   "version": "3.12.7"
  }
 },
 "nbformat": 4,
 "nbformat_minor": 2
}
