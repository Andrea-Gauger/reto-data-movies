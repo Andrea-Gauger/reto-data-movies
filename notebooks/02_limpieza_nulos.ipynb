{
 "cells": [
  {
   "cell_type": "markdown",
   "metadata": {},
   "source": [
    "# 2. Duplicados y Limpieza de variables sin nulos\n",
    "- Conversión de Year a fecha \n",
    "- Conversión Budget a números\n",
    "- Eliminación de duplicados"
   ]
  },
  {
   "cell_type": "code",
   "execution_count": 1,
   "metadata": {},
   "outputs": [],
   "source": [
    "# =========================\n",
    "# 1️⃣ Librerías core\n",
    "# =========================\n",
    "import pandas as pd\n",
    "import numpy as np\n",
    "import re\n",
    "import requests\n",
    "import matplotlib.pyplot as plt\n",
    "import seaborn as sns\n",
    "from word2number import w2n  # Para convertir strings numéricos a números\n",
    "\n",
    "# =========================\n",
    "# 2️⃣ Configuración de pandas\n",
    "# =========================\n",
    "pd.set_option('display.max_columns', None)  # Mostrar todas las columnas\n",
    "# pd.set_option('display.float_format', '{:,.0f}'.format)  # Formato sin notación científica\n",
    "\n",
    "# =========================\n",
    "# 3️⃣ Configuración de gráficos\n",
    "# =========================\n",
    "sns.set(style=\"whitegrid\")           # Estilo de Seaborn\n",
    "sns.set_palette(\"Set2\")              # Paleta de colores\n",
    "plt.rcParams[\"figure.figsize\"] = (10,6)\n",
    "plt.rcParams[\"axes.titlesize\"] = 16\n",
    "plt.rcParams[\"axes.labelsize\"] = 14\n",
    "plt.rcParams[\"xtick.labelsize\"] = 12\n",
    "plt.rcParams[\"ytick.labelsize\"] = 12\n",
    "\n",
    "# =========================\n",
    "# 4️⃣ Configuración general\n",
    "# =========================\n",
    "import warnings\n",
    "warnings.filterwarnings(\"ignore\")  # Ocultar warnings innecesarios\n"
   ]
  },
  {
   "cell_type": "code",
   "execution_count": 2,
   "metadata": {},
   "outputs": [],
   "source": [
    "def text_to_num(year):\n",
    "    \"\"\"\n",
    "    Limpiar y convertir a números str sin errores ortográficos ni de puntuación: \n",
    "        - Si el valor es un str, lo normaliza dejando todo en minusculas y quitando espacios en los extremos.\n",
    "        - Después lo convierte a número con la librería w2n, método word_to_num\n",
    "        - Si no puede devuelve el valor ya normalizado\n",
    "        - Si no es un str, devuelve el valor original\n",
    "    \"\"\"\n",
    "    # Si es str\n",
    "    if isinstance(year, str):\n",
    "\n",
    "        # Normalizamos el str\n",
    "        year_limpio = year.strip().lower()\n",
    "\n",
    "        try:\n",
    "            return w2n.word_to_num(year_limpio)\n",
    "        \n",
    "        except ValueError:\n",
    "            \n",
    "            # Si no puede leer los números en str devuelve NaN\n",
    "            return np.nan\n",
    "        \n",
    "        except Exception as e:\n",
    "\n",
    "            # Por si hay cualquier otro tipo de error\n",
    "            print(f\"⚠️ Error inesperado con '{year}': {e}\")\n",
    "            return np.nan\n",
    "        \n",
    "    # Si no es str, devuelve el mismo valor   \n",
    "    else: \n",
    "        return year"
   ]
  },
  {
   "cell_type": "code",
   "execution_count": 3,
   "metadata": {},
   "outputs": [],
   "source": [
    "def clean_budget(num):\n",
    "        # Quitar espacios al inicio/final\n",
    "        num = num.strip() \n",
    "\n",
    "        # Buscar si hay \"M\" o \"m\":\n",
    "        if re.search(r\"[Mm]\", num):\n",
    "\n",
    "            # Quitar \"M\" o \"m\" y convertir a int y millones\n",
    "            clean_num = re.sub(r\"[^\\d\\.]\", \"\", num)\n",
    "            try:\n",
    "                return int(clean_num) * 1_000_000\n",
    "            except:\n",
    "                return np.nan\n",
    "\n",
    "        # Buscar si hay \"K\" o \"k\":\n",
    "        if re.search(r\"[Kk]\", num):\n",
    "\n",
    "            # Quitar \"K\" o \"k\" y convertir a int y miles\n",
    "            clean_num = re.sub(r\"[^\\d\\.]\", \"\", num)\n",
    "            try:\n",
    "                return int(clean_num) * 1_000\n",
    "            except:\n",
    "                return np.nan   \n",
    "            \n",
    "        # Si no encuentra solo convierte a Int\n",
    "        else:\n",
    "            \n",
    "            try:\n",
    "                return int(num)\n",
    "            except:\n",
    "                return np.nan"
   ]
  },
  {
   "cell_type": "code",
   "execution_count": 4,
   "metadata": {},
   "outputs": [],
   "source": [
    "\n",
    "# Convertir el csv a DataFrame\n",
    "df_movies = pd.read_csv(f\"../data/raw_movies_dataset.csv\")        \n"
   ]
  },
  {
   "cell_type": "code",
   "execution_count": 5,
   "metadata": {},
   "outputs": [
    {
     "data": {
      "text/html": [
       "<div>\n",
       "<style scoped>\n",
       "    .dataframe tbody tr th:only-of-type {\n",
       "        vertical-align: middle;\n",
       "    }\n",
       "\n",
       "    .dataframe tbody tr th {\n",
       "        vertical-align: top;\n",
       "    }\n",
       "\n",
       "    .dataframe thead th {\n",
       "        text-align: right;\n",
       "    }\n",
       "</style>\n",
       "<table border=\"1\" class=\"dataframe\">\n",
       "  <thead>\n",
       "    <tr style=\"text-align: right;\">\n",
       "      <th></th>\n",
       "      <th>Title</th>\n",
       "      <th>Genre</th>\n",
       "      <th>Year</th>\n",
       "      <th>Budget</th>\n",
       "      <th>Revenue</th>\n",
       "      <th>IMDB_Rating</th>\n",
       "    </tr>\n",
       "  </thead>\n",
       "  <tbody>\n",
       "    <tr>\n",
       "      <th>0</th>\n",
       "      <td>The Last Journey</td>\n",
       "      <td>Drama</td>\n",
       "      <td>2020</td>\n",
       "      <td>11000000</td>\n",
       "      <td>3.404969e+07</td>\n",
       "      <td>4.9</td>\n",
       "    </tr>\n",
       "    <tr>\n",
       "      <th>1</th>\n",
       "      <td>Infinite Dreams</td>\n",
       "      <td>Drama</td>\n",
       "      <td>2004</td>\n",
       "      <td>178000000</td>\n",
       "      <td>5.504360e+08</td>\n",
       "      <td>6.6</td>\n",
       "    </tr>\n",
       "    <tr>\n",
       "      <th>2</th>\n",
       "      <td>Code of Shadows</td>\n",
       "      <td>Romance</td>\n",
       "      <td>2018</td>\n",
       "      <td>13000000</td>\n",
       "      <td>7.855773e+06</td>\n",
       "      <td>4.7</td>\n",
       "    </tr>\n",
       "    <tr>\n",
       "      <th>3</th>\n",
       "      <td>Ocean Whisper</td>\n",
       "      <td>Action</td>\n",
       "      <td>2016</td>\n",
       "      <td>148000000</td>\n",
       "      <td>1.769979e+08</td>\n",
       "      <td>7.2</td>\n",
       "    </tr>\n",
       "    <tr>\n",
       "      <th>4</th>\n",
       "      <td>Forgotten Realm</td>\n",
       "      <td>Romance</td>\n",
       "      <td>2017</td>\n",
       "      <td>61000000</td>\n",
       "      <td>1.264061e+08</td>\n",
       "      <td>NaN</td>\n",
       "    </tr>\n",
       "  </tbody>\n",
       "</table>\n",
       "</div>"
      ],
      "text/plain": [
       "              Title    Genre  Year     Budget       Revenue  IMDB_Rating\n",
       "0  The Last Journey    Drama  2020   11000000  3.404969e+07          4.9\n",
       "1   Infinite Dreams    Drama  2004  178000000  5.504360e+08          6.6\n",
       "2   Code of Shadows  Romance  2018   13000000  7.855773e+06          4.7\n",
       "3     Ocean Whisper   Action  2016  148000000  1.769979e+08          7.2\n",
       "4   Forgotten Realm  Romance  2017   61000000  1.264061e+08          NaN"
      ]
     },
     "execution_count": 5,
     "metadata": {},
     "output_type": "execute_result"
    }
   ],
   "source": [
    "df_movies.head()"
   ]
  },
  {
   "cell_type": "markdown",
   "metadata": {},
   "source": [
    "## 2.1 Duplicados\n",
    "- Durante el EDA se descubrieron dos duplicados\n",
    "- Se realiza un .value_counts() de la variable title que funciona como un ID\n",
    "- Se confirman dos duplicaods mediante [df_movies.duplicated(keep=False)].sort_values(\"Title\")\n",
    "- Se eliminan los duplicados aplicando .drop_duplicates(inplace=True)\n",
    "- Comprobación de los cambios realizados con .shape"
   ]
  },
  {
   "cell_type": "code",
   "execution_count": 6,
   "metadata": {},
   "outputs": [
    {
     "data": {
      "text/plain": [
       "Title\n",
       "The Last Journey        2\n",
       "Shattered Skies         2\n",
       "Infinite Dreams         1\n",
       "Eternal Voyage          1\n",
       "Broken Destiny          1\n",
       "Beyond the Stars        1\n",
       "The Lost Signal         1\n",
       "Crimson Night           1\n",
       "Quantum Hearts          1\n",
       "Solar Storm             1\n",
       "Iron Legacy             1\n",
       "Whispers in the Dark    1\n",
       "Digital Frontier        1\n",
       "Echoes of Tomorrow      1\n",
       "Silent Horizon          1\n",
       "Neon City               1\n",
       "Forgotten Realm         1\n",
       "Ocean Whisper           1\n",
       "Code of Shadows         1\n",
       "Mystic River            1\n",
       "Name: count, dtype: int64"
      ]
     },
     "execution_count": 6,
     "metadata": {},
     "output_type": "execute_result"
    }
   ],
   "source": [
    "# Conteo de valores\n",
    "df_movies[\"Title\"].value_counts()"
   ]
  },
  {
   "cell_type": "code",
   "execution_count": 7,
   "metadata": {},
   "outputs": [
    {
     "data": {
      "text/html": [
       "<div>\n",
       "<style scoped>\n",
       "    .dataframe tbody tr th:only-of-type {\n",
       "        vertical-align: middle;\n",
       "    }\n",
       "\n",
       "    .dataframe tbody tr th {\n",
       "        vertical-align: top;\n",
       "    }\n",
       "\n",
       "    .dataframe thead th {\n",
       "        text-align: right;\n",
       "    }\n",
       "</style>\n",
       "<table border=\"1\" class=\"dataframe\">\n",
       "  <thead>\n",
       "    <tr style=\"text-align: right;\">\n",
       "      <th></th>\n",
       "      <th>Title</th>\n",
       "      <th>Genre</th>\n",
       "      <th>Year</th>\n",
       "      <th>Budget</th>\n",
       "      <th>Revenue</th>\n",
       "      <th>IMDB_Rating</th>\n",
       "    </tr>\n",
       "  </thead>\n",
       "  <tbody>\n",
       "    <tr>\n",
       "      <th>17</th>\n",
       "      <td>Shattered Skies</td>\n",
       "      <td>NaN</td>\n",
       "      <td>2008</td>\n",
       "      <td>59000000</td>\n",
       "      <td>2.180626e+08</td>\n",
       "      <td>6.7</td>\n",
       "    </tr>\n",
       "    <tr>\n",
       "      <th>21</th>\n",
       "      <td>Shattered Skies</td>\n",
       "      <td>NaN</td>\n",
       "      <td>2008</td>\n",
       "      <td>59000000</td>\n",
       "      <td>2.180626e+08</td>\n",
       "      <td>6.7</td>\n",
       "    </tr>\n",
       "    <tr>\n",
       "      <th>0</th>\n",
       "      <td>The Last Journey</td>\n",
       "      <td>Drama</td>\n",
       "      <td>2020</td>\n",
       "      <td>11000000</td>\n",
       "      <td>3.404969e+07</td>\n",
       "      <td>4.9</td>\n",
       "    </tr>\n",
       "    <tr>\n",
       "      <th>20</th>\n",
       "      <td>The Last Journey</td>\n",
       "      <td>Drama</td>\n",
       "      <td>2020</td>\n",
       "      <td>11000000</td>\n",
       "      <td>3.404969e+07</td>\n",
       "      <td>4.9</td>\n",
       "    </tr>\n",
       "  </tbody>\n",
       "</table>\n",
       "</div>"
      ],
      "text/plain": [
       "               Title  Genre  Year    Budget       Revenue  IMDB_Rating\n",
       "17   Shattered Skies    NaN  2008  59000000  2.180626e+08          6.7\n",
       "21   Shattered Skies    NaN  2008  59000000  2.180626e+08          6.7\n",
       "0   The Last Journey  Drama  2020  11000000  3.404969e+07          4.9\n",
       "20  The Last Journey  Drama  2020  11000000  3.404969e+07          4.9"
      ]
     },
     "execution_count": 7,
     "metadata": {},
     "output_type": "execute_result"
    }
   ],
   "source": [
    "# Mostrar filas duplicadas con sus originales, compruebo que son realmente duplicados.\n",
    "df_movies[df_movies.duplicated(keep=False)].sort_values(\"Title\")"
   ]
  },
  {
   "cell_type": "code",
   "execution_count": 8,
   "metadata": {},
   "outputs": [],
   "source": [
    "# Eliminar duplicados.\n",
    "df_movies.drop_duplicates(inplace=True)"
   ]
  },
  {
   "cell_type": "code",
   "execution_count": 9,
   "metadata": {},
   "outputs": [
    {
     "data": {
      "text/plain": [
       "(20, 6)"
      ]
     },
     "execution_count": 9,
     "metadata": {},
     "output_type": "execute_result"
    }
   ],
   "source": [
    "# Comrpobar nuevas dimensiones.\n",
    "df_movies.shape"
   ]
  },
  {
   "cell_type": "markdown",
   "metadata": {},
   "source": [
    "## 2.2 Limpieza Year\n",
    "- Durante el EDA, se identificó que la variable Year era de tipo str y que contenían formatos mixtos.\n",
    "- Se utiliza la librería word2number (from word2number import w2n) para convertir str en números.\n",
    "- Se crea la función text_to_num() para detectar los trings que no contienen números y así poder transformarlos.\n",
    "- Después se convierte el tipo de dato a fecha, aplicando el método pd.to_datetime() y después en año mediante dt.year.\n",
    "- Se comprueba aplicando .value_counts().sort_index() para ver la distribución de años de forma ordenada."
   ]
  },
  {
   "cell_type": "code",
   "execution_count": 10,
   "metadata": {},
   "outputs": [
    {
     "data": {
      "text/plain": [
       "Year\n",
       "2020            3\n",
       "2011            2\n",
       "2007            2\n",
       "2022            2\n",
       "2004            1\n",
       "2018            1\n",
       "2016            1\n",
       "2017            1\n",
       "2000            1\n",
       "2006            1\n",
       "2003            1\n",
       "2019            1\n",
       "Two Thousand    1\n",
       "2001            1\n",
       "2008            1\n",
       "Name: count, dtype: int64"
      ]
     },
     "execution_count": 10,
     "metadata": {},
     "output_type": "execute_result"
    }
   ],
   "source": [
    "# Conteo de valores\n",
    "df_movies[\"Year\"].value_counts()"
   ]
  },
  {
   "cell_type": "code",
   "execution_count": 11,
   "metadata": {},
   "outputs": [],
   "source": [
    "# Aplicar función a la variable \"Year\" del DataFrame\n",
    "df_movies[\"Year\"] = df_movies[\"Year\"].apply(text_to_num)"
   ]
  },
  {
   "cell_type": "code",
   "execution_count": 12,
   "metadata": {},
   "outputs": [],
   "source": [
    "# Convertir str a datetime y a year.\n",
    "df_movies[\"Year\"] = pd.to_datetime(df_movies[\"Year\"], format=\"%Y\").dt.year"
   ]
  },
  {
   "cell_type": "code",
   "execution_count": 13,
   "metadata": {},
   "outputs": [
    {
     "data": {
      "text/plain": [
       "Year\n",
       "2000    2\n",
       "2001    1\n",
       "2003    1\n",
       "2004    1\n",
       "2006    1\n",
       "2007    2\n",
       "2008    1\n",
       "2011    2\n",
       "2016    1\n",
       "2017    1\n",
       "2018    1\n",
       "2019    1\n",
       "2020    3\n",
       "2022    2\n",
       "Name: count, dtype: int64"
      ]
     },
     "execution_count": 13,
     "metadata": {},
     "output_type": "execute_result"
    }
   ],
   "source": [
    "# Comprobar el resultado, ordenando el output por año\n",
    "df_movies[\"Year\"].value_counts().sort_index()"
   ]
  },
  {
   "cell_type": "markdown",
   "metadata": {},
   "source": [
    "## 2.3 Limpieza Budget\n",
    "- Durante el EDA, se identificó que la variable Budget era de tipo str y que algunos números contenián letras (ejemplo: \"20M\").\n",
    "- Se utiliza la librería regex para que encuentre las letras Mm, o Kk.\n",
    "- Se crea la función clean_budget() para detectar estas letras y convertir el numero a miles o millones según proceda y que lo convierta a int\n",
    "- Se comprueba el tipo de dato y el porcentaje de nulos para conocer el resultado de los cambios."
   ]
  },
  {
   "cell_type": "code",
   "execution_count": 14,
   "metadata": {},
   "outputs": [
    {
     "data": {
      "text/plain": [
       "Budget\n",
       "59000000     2\n",
       "11000000     1\n",
       "202000000    1\n",
       "215000000    1\n",
       "180000000    1\n",
       "123000000    1\n",
       "160000000    1\n",
       "99000000     1\n",
       "102000000    1\n",
       "152000000    1\n",
       "178000000    1\n",
       "25000000     1\n",
       "211000000    1\n",
       "31000000     1\n",
       "80M          1\n",
       "61000000     1\n",
       "148000000    1\n",
       "13000000     1\n",
       "41000000     1\n",
       "Name: count, dtype: int64"
      ]
     },
     "execution_count": 14,
     "metadata": {},
     "output_type": "execute_result"
    }
   ],
   "source": [
    "# Conteo de valores\n",
    "df_movies[\"Budget\"].value_counts()"
   ]
  },
  {
   "cell_type": "code",
   "execution_count": 15,
   "metadata": {},
   "outputs": [],
   "source": [
    "# Aplicar la función clean_budget\n",
    "df_movies[\"Budget\"] = df_movies[\"Budget\"].apply(clean_budget)"
   ]
  },
  {
   "cell_type": "code",
   "execution_count": 16,
   "metadata": {},
   "outputs": [
    {
     "data": {
      "text/plain": [
       "dtype('int64')"
      ]
     },
     "execution_count": 16,
     "metadata": {},
     "output_type": "execute_result"
    }
   ],
   "source": [
    "# Comrpobar tipo de valor\n",
    "df_movies[\"Budget\"].dtype"
   ]
  },
  {
   "cell_type": "code",
   "execution_count": 17,
   "metadata": {},
   "outputs": [
    {
     "name": "stdout",
     "output_type": "stream",
     "text": [
      "\n",
      "Porcentaje de nulos:\n"
     ]
    },
    {
     "data": {
      "text/plain": [
       "Title           0.0\n",
       "Genre          15.0\n",
       "Year            0.0\n",
       "Budget          0.0\n",
       "Revenue        15.0\n",
       "IMDB_Rating    20.0\n",
       "dtype: float64"
      ]
     },
     "metadata": {},
     "output_type": "display_data"
    }
   ],
   "source": [
    "# Imprimir porcentaje de nulos\n",
    "print(\"\\nPorcentaje de nulos:\")\n",
    "display(round(df_movies.isnull().mean() * 100, 2))"
   ]
  },
  {
   "cell_type": "markdown",
   "metadata": {},
   "source": [
    "# 3. OMdB API (\"Genre\", \"IMDB_Rating\", \"Revenue\")\n",
    "- Durante el EDA se identificaron valores nulos en las siguientes variables: IMDB_Rating, Revenue, Genre\n",
    "- Se realiza un enriquecimiento de datos mediante OMdB API, permite consultar informacion de peliculas (es necesario tener una API_KEY)\n",
    "- Se realiza la función fill_omdb() que:\n",
    "    1. Itera por las filas de las columnas con nulos, \n",
    "    2. Cuando detecta uno llama a la api buscando el título de la película,\n",
    "    3. Si la API responde correctamente, y se encuentra la película\n",
    "    4. Se rellenan los datos solo cuando realmente esté vacio y la api realmente contenga el dato (no sobreescribe)\n",
    "    5. Si no lo contiene se devuelve np.nan\n",
    "    6. En caso de no encontrar la película se imprime un aviso\n",
    "    7. En caso de errores con la conexión API también se imprime el error\n",
    "\n",
    "- Se revisan los nulos antes de aplicar la función\n",
    "- Se aplica la función al df\n",
    "- Se vuelve a comprobar el porcentaje de nulos"
   ]
  },
  {
   "cell_type": "code",
   "execution_count": 18,
   "metadata": {},
   "outputs": [],
   "source": [
    "API_KEY = \"8b7f94f8\"\n",
    "\n",
    "def fill_omdb(row, columns_to_fill=[\"IMDB_Rating\", \"Revenue\", \"Genre\"]):\n",
    "    \"\"\"\n",
    "    Toma una fila de un DataFrame, comprueba si tiene NaN en las columnas especificadas,\n",
    "    y si es así consulta OMDb por el título y devuelve la fila con los valores rellenados.\n",
    "    \"\"\"\n",
    "    # Si no falta nada, devuelve la fila tal cual\n",
    "    if not row[columns_to_fill].isnull().any():\n",
    "        return row\n",
    "\n",
    "    # Se crea la variable \"title\" que cogerá el título de cada fila\n",
    "    title = row[\"Title\"]\n",
    "\n",
    "    # Llamada a la api con el título y api_key\n",
    "    url = f\"http://www.omdbapi.com/?t={title}&apikey={API_KEY}\"\n",
    "    response = requests.get(url)\n",
    "\n",
    "    # Si la respuesta es correcta\n",
    "    if response.status_code == 200:\n",
    "        data = response.json() # almacena el json en la variable data\n",
    "\n",
    "        # Si contiene datos\n",
    "        if data.get(\"Response\") == \"True\":\n",
    "\n",
    "            # Si la variable es nula y se encuentra en data:\n",
    "            if pd.isna(row[\"IMDB_Rating\"]) and \"imdbRating\" in data:\n",
    "                # Si el valor en data no es Nulo\n",
    "                if data[\"imdbRating\"] != \"N/A\":\n",
    "                    # Se rellena con con la info\n",
    "                    row[\"IMDB_Rating\"] = data[\"imdbRating\"]\n",
    "                    # Imprime la info que se ha añadido\n",
    "                    print(f\"{title} -> IMDB_Rating: {row[\"IMDB_Rating\"]}\")\n",
    "                # Si no se cumple devuelve nulo, como ya estaba\n",
    "                else:\n",
    "                    row[\"IMDB_Rating\"] = np.nan\n",
    "\n",
    "            if pd.isna(row[\"Revenue\"]) and \"BoxOffice\" in data:\n",
    "                if data[\"BoxOffice\"] != \"N/A\":\n",
    "                    row[\"Revenue\"] = data[\"BoxOffice\"]\n",
    "                    print(f\"{title} -> Revenue: {row[\"Revenue\"]}\")\n",
    "                else:\n",
    "                    row[\"Revenue\"] = np.nan\n",
    "\n",
    "            if pd.isna(row[\"Genre\"]) and \"Genre\" in data:\n",
    "                if data[\"Genre\"] != \"N/A\":\n",
    "                    row[\"Genre\"] = data[\"Genre\"].split(\",\")[0].strip()\n",
    "                    print(f\"{title} -> Genre: {row[\"Genre\"]}\")\n",
    "                else:\n",
    "                    row[\"Genre\"] = np.nan\n",
    "\n",
    "        # Si no contiene datos porque no encontró la película\n",
    "        else:\n",
    "            print(f\"No encontrado en OMDb: {title}\")\n",
    "\n",
    "    # Errores con la api        \n",
    "    else:\n",
    "        print(f\"Error con la API para {title}: {response.status_code}\")\n",
    "\n",
    "    return row"
   ]
  },
  {
   "cell_type": "markdown",
   "metadata": {},
   "source": [
    "\"En este bloque controlo: \n",
    "- que solo se rellenen las columnas que están vacías realmente en el DataFrame y \n",
    "- que la API realmente devuelva ese dato,\n",
    "- que imprima cuando no encuentre la película\n",
    "- que imprima los datos que ha rellenado\n",
    "\n",
    "Así no se sobreescribe información que ya tenía limpia y evito errores si en la respuesta de la API no está la key.\""
   ]
  },
  {
   "cell_type": "code",
   "execution_count": 19,
   "metadata": {},
   "outputs": [
    {
     "name": "stdout",
     "output_type": "stream",
     "text": [
      "No encontrado en OMDb: Forgotten Realm\n",
      "Digital Frontier -> Genre: Documentary\n",
      "No encontrado en OMDb: Quantum Hearts\n",
      "Beyond the Stars -> IMDB_Rating: 5.2\n",
      "No encontrado en OMDb: Shattered Skies\n",
      "No encontrado en OMDb: Eternal Voyage\n",
      "Mystic River -> Genre: Crime\n"
     ]
    }
   ],
   "source": [
    "# Se aplica la función fill_omdb\n",
    "df_movies = df_movies.apply(fill_omdb, axis=1)"
   ]
  },
  {
   "cell_type": "markdown",
   "metadata": {},
   "source": [
    "# 4. Imputación de nulos restantes\n",
    "- Revisamos la situacion de las columnas después de los cambios realizados y comrpobamos el porcentage de nulos antes de imputar los nulos restantes"
   ]
  },
  {
   "cell_type": "code",
   "execution_count": 20,
   "metadata": {},
   "outputs": [
    {
     "name": "stdout",
     "output_type": "stream",
     "text": [
      "<class 'pandas.core.frame.DataFrame'>\n",
      "Index: 20 entries, 0 to 19\n",
      "Data columns (total 6 columns):\n",
      " #   Column       Non-Null Count  Dtype  \n",
      "---  ------       --------------  -----  \n",
      " 0   Title        20 non-null     object \n",
      " 1   Genre        19 non-null     object \n",
      " 2   Year         20 non-null     int64  \n",
      " 3   Budget       20 non-null     int64  \n",
      " 4   Revenue      17 non-null     float64\n",
      " 5   IMDB_Rating  17 non-null     object \n",
      "dtypes: float64(1), int64(2), object(3)\n",
      "memory usage: 1.1+ KB\n"
     ]
    }
   ],
   "source": [
    "# Revisión de situacion a mitad de proceso\n",
    "df_movies.info()"
   ]
  },
  {
   "cell_type": "code",
   "execution_count": 21,
   "metadata": {},
   "outputs": [
    {
     "data": {
      "text/plain": [
       "Title           0.0\n",
       "Genre           5.0\n",
       "Year            0.0\n",
       "Budget          0.0\n",
       "Revenue        15.0\n",
       "IMDB_Rating    15.0\n",
       "dtype: float64"
      ]
     },
     "metadata": {},
     "output_type": "display_data"
    }
   ],
   "source": [
    "# Porcentaje de nulos\n",
    "display(round(df_movies.isnull().mean() * 100, 2))"
   ]
  },
  {
   "cell_type": "markdown",
   "metadata": {},
   "source": [
    "## 4.1 Imputación Genre\n",
    "- NaN se convierten en Unknown, puesto que es imposible saber o sacar un género para una película si no hay una descripción en los datos."
   ]
  },
  {
   "cell_type": "code",
   "execution_count": 23,
   "metadata": {},
   "outputs": [],
   "source": [
    "# Rellenar con \"Unknown\" los nulos\n",
    "df_movies[\"Genre\"].fillna(\"Unknown\", inplace=True)"
   ]
  },
  {
   "cell_type": "code",
   "execution_count": 24,
   "metadata": {},
   "outputs": [
    {
     "data": {
      "text/plain": [
       "Title           0.0\n",
       "Genre           0.0\n",
       "Year            0.0\n",
       "Budget          0.0\n",
       "Revenue        15.0\n",
       "IMDB_Rating    15.0\n",
       "dtype: float64"
      ]
     },
     "metadata": {},
     "output_type": "display_data"
    }
   ],
   "source": [
    "# Comrobar que se haya realizado correctamente\n",
    "display(round(df_movies.isnull().mean() * 100, 2))"
   ]
  },
  {
   "cell_type": "markdown",
   "metadata": {},
   "source": [
    "## 4.2 Imputación Revenue\n",
    "- Una vez ordenados los datos de Budget, se aprecia la relación real Revenue/Budget\n",
    "- Teniendo clara una tendencia ascendente, se decide imputar por la mediana del ratio (la relación Budget/Revenue)\n",
    "- Comprobamos mediante scatterplot que la tendencia antes y despúes de imputar"
   ]
  },
  {
   "cell_type": "code",
   "execution_count": 27,
   "metadata": {},
   "outputs": [
    {
     "data": {
      "image/png": "[encoded data removed]",
      "text/plain": [
       "<Figure size 1000x600 with 1 Axes>"
      ]
     },
     "metadata": {},
     "output_type": "display_data"
    }
   ],
   "source": [
    "# Con los datos ordenados una vez convertidos a int, podemos ver una clara tendencia ascendente entre Budget y Revenue\n",
    "# Imputar por la mediana los Nulos de Revenue\n",
    "sns.regplot(data=df_movies, \n",
    "            y=\"Budget\", \n",
    "            x=\"Revenue\", \n",
    "            line_kws={\"color\":\"red\"}, \n",
    "            ci=None)\n",
    "plt.title(\"Relación Budget vs Revenue con Nulos\")\n",
    "plt.ylabel(\"Presupuesto\")\n",
    "plt.xlabel(\"Revenue\")\n",
    "plt.savefig(\"../images/null_scatter_budget_revenue.png\", dpi=300, bbox_inches=\"tight\")\n",
    "plt.show()"
   ]
  },
  {
   "cell_type": "code",
   "execution_count": 28,
   "metadata": {},
   "outputs": [],
   "source": [
    "# Calcular ratio (la relación) entre Revenue/Budget\n",
    "df_movies[\"ratio\"] = df_movies[\"Revenue\"] / df_movies[\"Budget\"]"
   ]
  },
  {
   "cell_type": "code",
   "execution_count": 29,
   "metadata": {},
   "outputs": [],
   "source": [
    "# Guardar la variable Mediana de la Ratio\n",
    "mediana_ratio = df_movies[\"ratio\"].median()"
   ]
  },
  {
   "cell_type": "code",
   "execution_count": 30,
   "metadata": {},
   "outputs": [],
   "source": [
    "# Máscara, donde true serán los NaN\n",
    "mask_nan = df_movies[\"Revenue\"].isna() "
   ]
  },
  {
   "cell_type": "code",
   "execution_count": 31,
   "metadata": {},
   "outputs": [],
   "source": [
    "# Imputar (en todas las filas en las que Revenue es NaN, multiplica budget por la ratio mediana)\n",
    "df_movies.loc[mask_nan, \"Revenue\"] = df_movies.loc[mask_nan, \"Budget\"] * mediana_ratio\n"
   ]
  },
  {
   "cell_type": "code",
   "execution_count": 32,
   "metadata": {},
   "outputs": [
    {
     "data": {
      "image/png": "[encoded data removed]",
      "text/plain": [
       "<Figure size 1000x600 with 1 Axes>"
      ]
     },
     "metadata": {},
     "output_type": "display_data"
    }
   ],
   "source": [
    "# Una vez realizada la imputación, vemos que los nuevos datos han quedado dentro de la tendencia que ya se podía ver en la relación anterior\n",
    "sns.regplot(data=df_movies, \n",
    "            y=\"Budget\", \n",
    "            x=\"Revenue\", \n",
    "            line_kws={\"color\":\"red\"}, \n",
    "            ci=None)\n",
    "plt.title(\"Relación Budget vs Revenue sin Nulos\")\n",
    "plt.ylabel(\"Presupuesto\")\n",
    "plt.xlabel(\"Revenue\")\n",
    "plt.savefig(\"../images/no_null_scatter_budget_revenue.png\", dpi=300, bbox_inches=\"tight\")\n",
    "plt.show()"
   ]
  },
  {
   "cell_type": "code",
   "execution_count": 33,
   "metadata": {},
   "outputs": [
    {
     "data": {
      "text/plain": [
       "Title           0.0\n",
       "Genre           0.0\n",
       "Year            0.0\n",
       "Budget          0.0\n",
       "Revenue         0.0\n",
       "IMDB_Rating    15.0\n",
       "ratio          15.0\n",
       "dtype: float64"
      ]
     },
     "metadata": {},
     "output_type": "display_data"
    }
   ],
   "source": [
    "# Porcentaje de nulos\n",
    "display(round(df_movies.isnull().mean() * 100, 2))"
   ]
  },
  {
   "cell_type": "markdown",
   "metadata": {},
   "source": [
    "## 4.2 Imputación IMDB_Rating\n",
    "- Para datasets con mayor cantidad de datos, se plantea imputar por la mediana agrupada por género, pero en este caso se considera mejor\n",
    "- Imputar por la mediana global\n",
    "- Se realizan comprobaciones antes y después de la imputación\n",
    "- Se deja al final del bloque el código para una posible imputación agrupando por género"
   ]
  },
  {
   "cell_type": "code",
   "execution_count": 34,
   "metadata": {},
   "outputs": [
    {
     "data": {
      "text/plain": [
       "<function matplotlib.pyplot.show(close=None, block=None)>"
      ]
     },
     "execution_count": 34,
     "metadata": {},
     "output_type": "execute_result"
    },
    {
     "data": {
      "image/png": "[encoded data removed]",
      "text/plain": [
       "<Figure size 1000x600 with 1 Axes>"
      ]
     },
     "metadata": {},
     "output_type": "display_data"
    }
   ],
   "source": [
    "# Comprobación de distribución antes de imputar\n",
    "sns.histplot(df_movies[\"IMDB_Rating\"], \n",
    "             bins=10, kde=True)\n",
    "            \n",
    "plt.title(\"Distribución de IMDB_Rating (antes de imputar)\")\n",
    "plt.xlabel(\"IMDB_Rating\")\n",
    "plt.ylabel(\"Frecuencia\")\n",
    "plt.savefig(\"../images/histplot_rating.png\", dpi=300)\n",
    "plt.show"
   ]
  },
  {
   "cell_type": "code",
   "execution_count": 35,
   "metadata": {},
   "outputs": [],
   "source": [
    "# Convertir a numérico forzando errores a NaN\n",
    "df_movies[\"IMDB_Rating\"] = pd.to_numeric(df_movies[\"IMDB_Rating\"], errors=\"coerce\")"
   ]
  },
  {
   "cell_type": "code",
   "execution_count": 36,
   "metadata": {},
   "outputs": [],
   "source": [
    "# Calcular la mediana global\n",
    "median_global = df_movies[\"IMDB_Rating\"].median()"
   ]
  },
  {
   "cell_type": "code",
   "execution_count": 37,
   "metadata": {},
   "outputs": [],
   "source": [
    "# Imputar NaN con la mediana\n",
    "df_movies[\"IMDB_Rating\"] = df_movies[\"IMDB_Rating\"].fillna(median_global)"
   ]
  },
  {
   "cell_type": "code",
   "execution_count": 38,
   "metadata": {},
   "outputs": [
    {
     "data": {
      "text/plain": [
       "<function matplotlib.pyplot.show(close=None, block=None)>"
      ]
     },
     "execution_count": 38,
     "metadata": {},
     "output_type": "execute_result"
    },
    {
     "data": {
      "image/png": "[encoded data removed]",
      "text/plain": [
       "<Figure size 1000x600 with 1 Axes>"
      ]
     },
     "metadata": {},
     "output_type": "display_data"
    }
   ],
   "source": [
    "# Comprobación de distribución después de imputar\n",
    "sns.histplot(df_movies[\"IMDB_Rating\"], \n",
    "             bins=10, \n",
    "             kde=True)\n",
    "\n",
    "plt.title(\"Distribución de IMDB_Rating (después de imputar)\")\n",
    "plt.xlabel(\"IMDB_Rating\")\n",
    "plt.ylabel(\"Frecuencia\")\n",
    "plt.savefig(\"../images/no_null_histplot_rating.png\", dpi=300)\n",
    "plt.show"
   ]
  },
  {
   "cell_type": "code",
   "execution_count": 39,
   "metadata": {},
   "outputs": [
    {
     "data": {
      "text/plain": [
       "'\\ndf_movies[\"IMDB_Rating\"] = df_movies.groupby(\"Genre\")[\"IMDB_Rating\"].transform(\\n    lambda x: x.fillna(x.median()))\\n'"
      ]
     },
     "execution_count": 39,
     "metadata": {},
     "output_type": "execute_result"
    }
   ],
   "source": [
    "# En este caso, con tan pocos datos, no tiene sentido imputar por la mediana de rating por género, se distorsionan los datos\n",
    "# Pero en caso de tener un data set más grande, sería más que recomendable mputar NaN con la mediana por cada género\n",
    "\"\"\"\n",
    "df_movies[\"IMDB_Rating\"] = df_movies.groupby(\"Genre\")[\"IMDB_Rating\"].transform(\n",
    "    lambda x: x.fillna(x.median()))\n",
    "\"\"\""
   ]
  },
  {
   "cell_type": "markdown",
   "metadata": {},
   "source": [
    "# 5. Normalización columnas"
   ]
  },
  {
   "cell_type": "code",
   "execution_count": 40,
   "metadata": {},
   "outputs": [],
   "source": [
    "# Se elimina la columna Ratio que se creo para imputar Revenue\n",
    "df_movies = df_movies.drop(columns=[\"ratio\"])"
   ]
  },
  {
   "cell_type": "code",
   "execution_count": 41,
   "metadata": {},
   "outputs": [],
   "source": [
    "# Normalizamos nombre de columnas\n",
    "df_movies.rename(columns={\n",
    "    \"Title\": \"title\",\n",
    "    \"Year\": \"year\",\n",
    "    \"Genre\": \"genre\",\n",
    "    \"Budget\": \"budget\",\n",
    "    \"Revenue\": \"revenue\",\n",
    "    \"IMDB_Rating\": \"imdb_rating\"\n",
    "}, inplace=True)"
   ]
  },
  {
   "cell_type": "code",
   "execution_count": 42,
   "metadata": {},
   "outputs": [
    {
     "data": {
      "text/plain": [
       "title          0.0\n",
       "genre          0.0\n",
       "year           0.0\n",
       "budget         0.0\n",
       "revenue        0.0\n",
       "imdb_rating    0.0\n",
       "dtype: float64"
      ]
     },
     "metadata": {},
     "output_type": "display_data"
    }
   ],
   "source": [
    "# Comrpobación nulos\n",
    "display(round(df_movies.isnull().mean() * 100, 2))"
   ]
  },
  {
   "cell_type": "markdown",
   "metadata": {},
   "source": [
    "# 06. Exportar CSV limpio"
   ]
  },
  {
   "cell_type": "code",
   "execution_count": 43,
   "metadata": {},
   "outputs": [],
   "source": [
    "df_movies.to_csv(\"../data/clean_movies_dataset.csv\", index=False)"
   ]
  }
 ],
 "metadata": {
  "kernelspec": {
   "display_name": "base",
   "language": "python",
   "name": "python3"
  },
  "language_info": {
   "codemirror_mode": {
    "name": "ipython",
    "version": 3
   },
   "file_extension": ".py",
   "mimetype": "text/x-python",
   "name": "python",
   "nbconvert_exporter": "python",
   "pygments_lexer": "ipython3",
   "version": "3.12.7"
  }
 },
 "nbformat": 4,
 "nbformat_minor": 2
}
